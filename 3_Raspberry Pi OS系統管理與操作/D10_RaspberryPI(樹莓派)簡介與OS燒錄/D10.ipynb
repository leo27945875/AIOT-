{
 "metadata": {
  "language_info": {
   "codemirror_mode": {
    "name": "ipython",
    "version": 3
   },
   "file_extension": ".py",
   "mimetype": "text/x-python",
   "name": "python",
   "nbconvert_exporter": "python",
   "pygments_lexer": "ipython3",
   "version": 3
  },
  "orig_nbformat": 2
 },
 "nbformat": 4,
 "nbformat_minor": 2,
 "cells": [
  {
   "source": [
    "## 1. 觀察 Raspberry PI OS 桌面與純文字版本映像檔案的檔案大小，實際下載之後解壓縮，紀錄實際下載與解壓縮的時間。\n",
    "---\n",
    "* Raspberry PI OS 桌面與純文字版本映像檔案的檔案大小 => 2020-05-27-raspios-buster-arm64.zip為0.97G\n",
    "* 實際下載之後解壓縮2020-05-27-raspios-buster-arm64.img為3.45G\n",
    "* 紀錄實際下載的時間為10分鐘\n",
    "* 紀錄實際解壓縮的時間為2分鐘\n",
    "\n",
    "## 2. Raspberry PI OS 開機後會自動的將sdcard的硬碟空間擴展成 SDCard 所有的區域，觀察開機的過程，確定可以順利的開機並且使用內定的帳號 pi，密碼 raspberry 登入系統。\n",
    "---\n",
    "![登入](./登入.png)\n",
    "\n",
    "## 3. 練習設定 pi 無線網路，確定 pi 的網路可以穩定的連線至無線基地台，順利的取得無線基地台發送的 ip 與網路設定，並且啟動瀏覽器順利上網。\n",
    "---\n",
    "![網路](./網路.png)\n"
   ],
   "cell_type": "markdown",
   "metadata": {}
  }
 ]
}