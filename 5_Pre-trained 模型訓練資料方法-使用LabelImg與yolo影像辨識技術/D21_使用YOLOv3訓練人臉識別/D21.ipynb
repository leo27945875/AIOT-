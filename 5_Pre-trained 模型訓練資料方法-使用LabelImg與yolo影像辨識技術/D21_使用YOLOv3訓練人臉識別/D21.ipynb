{
  "nbformat": 4,
  "nbformat_minor": 0,
  "metadata": {
    "colab": {
      "name": "解答_echo_practice.ipynb",
      "provenance": []
    },
    "kernelspec": {
      "name": "python3",
      "display_name": "Python 3"
    }
  },
  "cells": [
    {
      "cell_type": "markdown",
      "metadata": {
        "id": "YXubSej__exT"
      },
      "source": [
        "# 作業 : echo_practice"
      ]
    },
    {
      "cell_type": "markdown",
      "metadata": {
        "id": "5pIkPDAH-n5I"
      },
      "source": [
        "## [作業目標]\r\n",
        "如何使用指令修改yolo的cfg檔\r\n",
        "## [作業重點]\r\n",
        "了解echo工具的參數與使用"
      ]
    },
    {
      "cell_type": "markdown",
      "metadata": {
        "id": "GoKgXP58AioN"
      },
      "source": [
        "### 作業1 : 請問YOLO訓練前，分別要對哪幾個檔案做設定?\r\n",
        "\r\n"
      ]
    },
    {
      "cell_type": "markdown",
      "metadata": {
        "id": "2NimxVoIAsjk"
      },
      "source": [
        "> 模型 cfg, obj.name, obj.data "
      ]
    },
    {
      "cell_type": "markdown",
      "metadata": {
        "id": "EwTYifhRAlmP"
      },
      "source": [
        "### 作業2 : 請問UNIX的文字取代工具sed在使用時，指定參數-i有什麼意義?\r\n"
      ]
    },
    {
      "cell_type": "markdown",
      "metadata": {
        "id": "U9smRlvxAtBC"
      },
      "source": [
        "> 直接修改讀取的檔案內容，而不由螢幕輸出。"
      ]
    },
    {
      "cell_type": "markdown",
      "metadata": {
        "id": "ULVVYpgLAnY1"
      },
      "source": [
        "### 作業3 : 請問UNIX的文字編輯工具echo在使用時，指定參數-e有什麼意義?\r\n"
      ]
    },
    {
      "cell_type": "markdown",
      "metadata": {
        "id": "5QHoi-bTAtXl"
      },
      "source": [
        "> 指定-e 可以讓特定字元不作為文字輸出，特別處理。例如\\n、\\r 等 \r\n"
      ]
    },
    {
      "cell_type": "markdown",
      "metadata": {
        "id": "6B4GpYpyApaL"
      },
      "source": [
        "### 作業4: 請在colab的儲存空間新建\"123.sh\"文件，透過echo指令往裡面寫入以下指令\r\n",
        "```\r\n",
        "touch bash.sh \r\n",
        "echo -e \"2021 is coming\" > bash.sh \r\n",
        "bash bash.sh\r\n",
        "```"
      ]
    },
    {
      "cell_type": "code",
      "metadata": {
        "id": "pHecl9uep6NZ"
      },
      "source": [
        "!echo \"touch ./bash.sh\" > 123.sh\r\n",
        "!echo -e \"echo \\\"2021 is coming\\\"\" >> 123.sh\r\n",
        "!echo -e \"bash bash.sh\" >> 123.sh"
      ],
      "execution_count": null,
      "outputs": []
    }
  ]
}