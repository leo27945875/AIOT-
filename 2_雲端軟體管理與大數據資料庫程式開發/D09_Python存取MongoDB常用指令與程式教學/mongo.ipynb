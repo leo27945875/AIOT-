{
 "metadata": {
  "language_info": {
   "codemirror_mode": {
    "name": "ipython",
    "version": 3
   },
   "file_extension": ".py",
   "mimetype": "text/x-python",
   "name": "python",
   "nbconvert_exporter": "python",
   "pygments_lexer": "ipython3",
   "version": "3.8.3-final"
  },
  "orig_nbformat": 2,
  "kernelspec": {
   "name": "python3",
   "display_name": "Python 3.8.3 64-bit (conda)",
   "metadata": {
    "interpreter": {
     "hash": "6b60d692d45e4d3c8219689ad15912284a2888809b01af1d9a5e08aba46da5bd"
    }
   }
  }
 },
 "nbformat": 4,
 "nbformat_minor": 2,
 "cells": [
  {
   "cell_type": "code",
   "execution_count": 1,
   "metadata": {},
   "outputs": [],
   "source": [
    "from pymongo import MongoClient"
   ]
  },
  {
   "cell_type": "code",
   "execution_count": 4,
   "metadata": {},
   "outputs": [
    {
     "output_type": "stream",
     "name": "stderr",
     "text": [
      "<ipython-input-4-896185ff0974>:1: DeprecationWarning: database_names is deprecated. Use list_database_names instead.\n  client.database_names()\n"
     ]
    },
    {
     "output_type": "execute_result",
     "data": {
      "text/plain": [
       "['admin', 'config', 'local', 'test']"
      ]
     },
     "metadata": {},
     "execution_count": 4
    }
   ],
   "source": [
    "client = MongoClient(\"127.0.0.1\", port = 27017)\n",
    "client.database_names()"
   ]
  },
  {
   "cell_type": "code",
   "execution_count": null,
   "metadata": {},
   "outputs": [],
   "source": [
    "db = client['test']"
   ]
  },
  {
   "cell_type": "code",
   "execution_count": 5,
   "metadata": {},
   "outputs": [
    {
     "output_type": "stream",
     "name": "stderr",
     "text": [
      "<ipython-input-5-8ff4d2505e25>:1: DeprecationWarning: collection_names is deprecated. Use list_collection_names instead.\n  db.collection_names()\n"
     ]
    },
    {
     "output_type": "execute_result",
     "data": {
      "text/plain": [
       "['member']"
      ]
     },
     "metadata": {},
     "execution_count": 5
    }
   ],
   "source": [
    "db.collection_names()"
   ]
  },
  {
   "cell_type": "code",
   "execution_count": 7,
   "metadata": {},
   "outputs": [],
   "source": [
    "collection = db['member']"
   ]
  },
  {
   "cell_type": "code",
   "execution_count": 15,
   "metadata": {},
   "outputs": [
    {
     "output_type": "execute_result",
     "data": {
      "text/plain": [
       "{'_id': ObjectId('6058637dc1f710deca561f11'), 'name': 'Cathy'}"
      ]
     },
     "metadata": {},
     "execution_count": 15
    }
   ],
   "source": [
    "collection.find_one({}, {'name': 1})"
   ]
  },
  {
   "cell_type": "code",
   "execution_count": 16,
   "metadata": {},
   "outputs": [
    {
     "output_type": "execute_result",
     "data": {
      "text/plain": [
       "<pymongo.results.InsertOneResult at 0x29eef7f7880>"
      ]
     },
     "metadata": {},
     "execution_count": 16
    }
   ],
   "source": [
    "mydata = {\"name\": \"Kevin\", \"phone\": \"09555555555\", \"email\": \"eee@eee.com\"}\n",
    "collection.insert_one(mydata)"
   ]
  },
  {
   "cell_type": "code",
   "execution_count": 17,
   "metadata": {},
   "outputs": [
    {
     "output_type": "stream",
     "name": "stdout",
     "text": [
      "{'_id': ObjectId('6058637dc1f710deca561f11'), 'name': 'Cathy', 'age': 25.0}\n{'_id': ObjectId('6059d9622e6f7986edd31fce'), 'name': 'Kevin', 'phone': '09555555555', 'email': 'eee@eee.com'}\n"
     ]
    }
   ],
   "source": [
    "for x in collection.find():\n",
    "    print(x)"
   ]
  },
  {
   "cell_type": "code",
   "execution_count": 18,
   "metadata": {},
   "outputs": [
    {
     "output_type": "stream",
     "name": "stdout",
     "text": [
      "{'_id': ObjectId('6058637dc1f710deca561f11'), 'name': 'Cathy', 'age': 25.0}\n"
     ]
    }
   ],
   "source": [
    "for x in collection.find().limit(1):\n",
    "    print(x)"
   ]
  },
  {
   "cell_type": "code",
   "execution_count": null,
   "metadata": {},
   "outputs": [],
   "source": []
  }
 ]
}